{
 "cells": [
  {
   "cell_type": "markdown",
   "id": "5a4fdd30",
   "metadata": {},
   "source": [
    "# Introduction\n",
    "Breeden-Litzenberger formula could be used to derive risk-neutral probability density function from option prices."
   ]
  },
  {
   "cell_type": "code",
   "execution_count": null,
   "id": "caeaf2e9",
   "metadata": {},
   "outputs": [],
   "source": []
  }
 ],
 "metadata": {
  "kernelspec": {
   "display_name": "Python 3 (ipykernel)",
   "language": "python",
   "name": "python3"
  },
  "language_info": {
   "codemirror_mode": {
    "name": "ipython",
    "version": 3
   },
   "file_extension": ".py",
   "mimetype": "text/x-python",
   "name": "python",
   "nbconvert_exporter": "python",
   "pygments_lexer": "ipython3",
   "version": "3.10.9"
  }
 },
 "nbformat": 4,
 "nbformat_minor": 5
}
